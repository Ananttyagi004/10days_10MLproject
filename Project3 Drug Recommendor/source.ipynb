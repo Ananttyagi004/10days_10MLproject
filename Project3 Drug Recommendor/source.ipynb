{
 "cells": [
  {
   "cell_type": "code",
   "execution_count": 2,
   "metadata": {},
   "outputs": [],
   "source": [
    "import pandas as pd\n",
    "import numpy as np\n"
   ]
  },
  {
   "cell_type": "code",
   "execution_count": 3,
   "metadata": {},
   "outputs": [],
   "source": [
    "data=pd.read_excel('Medicine_description.xlsx')"
   ]
  },
  {
   "cell_type": "code",
   "execution_count": 4,
   "metadata": {},
   "outputs": [
    {
     "data": {
      "text/html": [
       "<div>\n",
       "<style scoped>\n",
       "    .dataframe tbody tr th:only-of-type {\n",
       "        vertical-align: middle;\n",
       "    }\n",
       "\n",
       "    .dataframe tbody tr th {\n",
       "        vertical-align: top;\n",
       "    }\n",
       "\n",
       "    .dataframe thead th {\n",
       "        text-align: right;\n",
       "    }\n",
       "</style>\n",
       "<table border=\"1\" class=\"dataframe\">\n",
       "  <thead>\n",
       "    <tr style=\"text-align: right;\">\n",
       "      <th></th>\n",
       "      <th>Drug_Name</th>\n",
       "      <th>Reason</th>\n",
       "      <th>Description</th>\n",
       "    </tr>\n",
       "  </thead>\n",
       "  <tbody>\n",
       "    <tr>\n",
       "      <th>0</th>\n",
       "      <td>A CN Gel(Topical) 20gmA CN Soap 75gm</td>\n",
       "      <td>Acne</td>\n",
       "      <td>Mild to moderate acne (spots)</td>\n",
       "    </tr>\n",
       "    <tr>\n",
       "      <th>1</th>\n",
       "      <td>A Ret 0.05% Gel 20gmA Ret 0.1% Gel 20gmA Ret 0...</td>\n",
       "      <td>Acne</td>\n",
       "      <td>A RET 0.025% is a prescription medicine that i...</td>\n",
       "    </tr>\n",
       "    <tr>\n",
       "      <th>2</th>\n",
       "      <td>ACGEL CL NANO Gel 15gm</td>\n",
       "      <td>Acne</td>\n",
       "      <td>It is used to treat acne vulgaris in people 12...</td>\n",
       "    </tr>\n",
       "    <tr>\n",
       "      <th>3</th>\n",
       "      <td>ACGEL NANO Gel 15gm</td>\n",
       "      <td>Acne</td>\n",
       "      <td>It is used to treat acne vulgaris in people 12...</td>\n",
       "    </tr>\n",
       "    <tr>\n",
       "      <th>4</th>\n",
       "      <td>Acleen 1% Lotion 25ml</td>\n",
       "      <td>Acne</td>\n",
       "      <td>treat the most severe form of acne (nodular ac...</td>\n",
       "    </tr>\n",
       "  </tbody>\n",
       "</table>\n",
       "</div>"
      ],
      "text/plain": [
       "                                           Drug_Name Reason  \\\n",
       "0               A CN Gel(Topical) 20gmA CN Soap 75gm   Acne   \n",
       "1  A Ret 0.05% Gel 20gmA Ret 0.1% Gel 20gmA Ret 0...   Acne   \n",
       "2                             ACGEL CL NANO Gel 15gm   Acne   \n",
       "3                                ACGEL NANO Gel 15gm   Acne   \n",
       "4                              Acleen 1% Lotion 25ml   Acne   \n",
       "\n",
       "                                         Description  \n",
       "0                      Mild to moderate acne (spots)  \n",
       "1  A RET 0.025% is a prescription medicine that i...  \n",
       "2  It is used to treat acne vulgaris in people 12...  \n",
       "3  It is used to treat acne vulgaris in people 12...  \n",
       "4  treat the most severe form of acne (nodular ac...  "
      ]
     },
     "execution_count": 4,
     "metadata": {},
     "output_type": "execute_result"
    }
   ],
   "source": [
    "data.head()"
   ]
  },
  {
   "cell_type": "code",
   "execution_count": 5,
   "metadata": {},
   "outputs": [
    {
     "data": {
      "text/plain": [
       "(22481, 3)"
      ]
     },
     "execution_count": 5,
     "metadata": {},
     "output_type": "execute_result"
    }
   ],
   "source": [
    "data.shape"
   ]
  },
  {
   "cell_type": "code",
   "execution_count": 6,
   "metadata": {},
   "outputs": [
    {
     "data": {
      "text/plain": [
       "Supplement           3913\n",
       "Pain                 2852\n",
       "Infection            2629\n",
       "Hypertension         2505\n",
       "Diabetes             2013\n",
       "Fungal                878\n",
       "Allergies             865\n",
       "Depression            628\n",
       "Anxiety               502\n",
       "Anaemia               490\n",
       "Acne                  394\n",
       "Angina                327\n",
       "Psychosis             301\n",
       "Constipation          289\n",
       "Viral                 287\n",
       "Diarrhoea             263\n",
       "General               243\n",
       "Malarial              228\n",
       "Schizophrenia         217\n",
       "Glaucoma              197\n",
       "Arthritis             178\n",
       "Vaccines              167\n",
       "Fever                 157\n",
       "Pyrexia               141\n",
       "Hypnosis              129\n",
       "Alzheimer             123\n",
       "Osteoporosis          123\n",
       "Hyperpigmentation     122\n",
       "Vertigo               119\n",
       "Digestion             117\n",
       "Migraine              113\n",
       "Parkinson             108\n",
       "Gout                  107\n",
       "Contraception          96\n",
       "Haematopoiesis         79\n",
       "Haemorrhoid            75\n",
       "Wound                  72\n",
       "Appetite               67\n",
       "Dandruff               63\n",
       "Mydriasis              45\n",
       "Cleanser               41\n",
       "Amoebiasis             37\n",
       "Scabies                36\n",
       "Hypothyroidism         33\n",
       "Thrombolysis           31\n",
       "Arrhythmiasis          23\n",
       "Hyperthyroidism        17\n",
       "Adhd                   17\n",
       "Smoking                16\n",
       "Leprosy                 4\n",
       "Hypotension             4\n",
       "Name: Reason, dtype: int64"
      ]
     },
     "execution_count": 6,
     "metadata": {},
     "output_type": "execute_result"
    }
   ],
   "source": [
    "data['Reason'].value_counts()"
   ]
  },
  {
   "cell_type": "code",
   "execution_count": 7,
   "metadata": {},
   "outputs": [],
   "source": [
    "import matplotlib.pyplot as plt"
   ]
  },
  {
   "cell_type": "code",
   "execution_count": 8,
   "metadata": {},
   "outputs": [],
   "source": [
    "from sklearn.feature_extraction.text import TfidfVectorizer\n",
    "from sklearn.metrics.pairwise import linear_kernel"
   ]
  },
  {
   "cell_type": "code",
   "execution_count": 9,
   "metadata": {},
   "outputs": [],
   "source": [
    "tfidf = TfidfVectorizer(stop_words='english')\n",
    "tfidf_matrix = tfidf.fit_transform(data['Drug_Name'])\n",
    "cosine_sim = linear_kernel(tfidf_matrix, tfidf_matrix)\n",
    "indices = pd.Series(data.index, index=data['Drug_Name']).drop_duplicates()"
   ]
  },
  {
   "cell_type": "code",
   "execution_count": 10,
   "metadata": {},
   "outputs": [],
   "source": [
    "def get_recommendations(drug, cosine_sim=cosine_sim):\n",
    "    drug_name=drug\n",
    "    idx = indices[drug_name]\n",
    "    sim_scores = list(enumerate(cosine_sim[idx]))\n",
    "#     sim_scores = sorted(sim_scores, df.any(), reverse=True)\n",
    "    sim_scores = sim_scores[1:11]\n",
    "    drug_indices = [i[0] for i in sim_scores]\n",
    "\n",
    "    return data['Drug_Name'].iloc[drug_indices]"
   ]
  },
  {
   "cell_type": "code",
   "execution_count": null,
   "metadata": {},
   "outputs": [
    {
     "data": {
      "text/plain": [
       "1     A Ret 0.05% Gel 20gmA Ret 0.1% Gel 20gmA Ret 0...\n",
       "2                                ACGEL CL NANO Gel 15gm\n",
       "3                                   ACGEL NANO Gel 15gm\n",
       "4                                 Acleen 1% Lotion 25ml\n",
       "5                                 Aclene 0.10% Gel 15gm\n",
       "6                                        Acnay Gel 10gm\n",
       "7                   Acne Aid Bar 50gmAcne Aid Bar 100gm\n",
       "8                                      Acne UV Gel 60gm\n",
       "9                               Acne UV SPF 30 Gel 30gm\n",
       "10                                    Acnecure Gel 20gm\n",
       "Name: Drug_Name, dtype: object"
      ]
     },
     "execution_count": 14,
     "metadata": {},
     "output_type": "execute_result"
    }
   ],
   "source": [
    "a='Acleen 1% Lotion 25ml'\n",
    "get_recommendations(a)"
   ]
  },
  {
   "cell_type": "code",
   "execution_count": null,
   "metadata": {},
   "outputs": [],
   "source": []
  }
 ],
 "metadata": {
  "kernelspec": {
   "display_name": "Python 3",
   "language": "python",
   "name": "python3"
  },
  "language_info": {
   "codemirror_mode": {
    "name": "ipython",
    "version": 3
   },
   "file_extension": ".py",
   "mimetype": "text/x-python",
   "name": "python",
   "nbconvert_exporter": "python",
   "pygments_lexer": "ipython3",
   "version": "3.10.8"
  },
  "orig_nbformat": 4,
  "vscode": {
   "interpreter": {
    "hash": "bfa87012867a9a016198acf741dbcfa8ca27c04238f8c605d694e49425389d93"
   }
  }
 },
 "nbformat": 4,
 "nbformat_minor": 2
}
